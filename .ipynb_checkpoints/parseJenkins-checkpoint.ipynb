{
 "cells": [
  {
   "cell_type": "code",
   "execution_count": null,
   "metadata": {
    "collapsed": false
   },
   "outputs": [],
   "source": [
    "import requests\n",
    "from requests.auth import HTTPBasicAuth\n",
    "import bs4\n",
    "import json\n",
    "import datetime\n",
    "import time\n",
    "import xml.etree.ElementTree as ET\n",
    "AUTH = HTTPBasicAuth('', '') # need jenkins user name & password"
   ]
  },
  {
   "cell_type": "code",
   "execution_count": null,
   "metadata": {
    "collapsed": true
   },
   "outputs": [],
   "source": [
    "xpath_credential = 'scm[@class=\"hudson.plugins.git.GitSCM\"]/userRemoteConfigs/hudson.plugins.git.UserRemoteConfig/credentialsId'\n",
    "xpath_giturl = 'scm[@class=\"hudson.plugins.git.GitSCM\"]/userRemoteConfigs/hudson.plugins.git.UserRemoteConfig/url'\n",
    "previous_key = '' # should have a credential uuid here\n",
    "new_key =''\n",
    "jenkins_url = 'https://jenkins_url' # jenkins url"
   ]
  },
  {
   "cell_type": "code",
   "execution_count": null,
   "metadata": {
    "collapsed": true
   },
   "outputs": [],
   "source": [
    "def loads (rawbody):\n",
    "    return json.loads(rawbody)"
   ]
  },
  {
   "cell_type": "code",
   "execution_count": null,
   "metadata": {
    "collapsed": true
   },
   "outputs": [],
   "source": [
    "def getJobConfig (jobName):\n",
    "    jobConfigUrl = jenkins_url + '/job/' + jobName + '/config.xml'\n",
    "    r = requests.get(jobConfigUrl, auth=AUTH)\n",
    "    if r == None:\n",
    "        print (jobName, \" don't have response, code\", r.status_code)\n",
    "        return None, None, None\n",
    "    x = ET.fromstring(r.text)\n",
    "    cred_node = x.find(xpath_credential)\n",
    "    if cred_node == None:\n",
    "        return r.text, \"node_not_found\", None\n",
    "    credential = cred_node.text\n",
    "    \n",
    "    giturl = x.find(xpath_giturl).text\n",
    "    \n",
    "    return r.text, credential, giturl"
   ]
  },
  {
   "cell_type": "code",
   "execution_count": null,
   "metadata": {
    "collapsed": true
   },
   "outputs": [],
   "source": [
    "def getCrumbHeader():\n",
    "    crumbResult = requests.get(jenkins_url + '/crumbIssuer/api/xml?xpath=concat(//crumbRequestField,\":\",//crumb)', auth=AUTH)\n",
    "    [k,v] = crumbResult.text.split(':')\n",
    "    # example text: 'Jenkins-Crumb:7903ad9ae5321513d4ad84b0a0993762'\n",
    "    return {k:v}"
   ]
  },
  {
   "cell_type": "code",
   "execution_count": null,
   "metadata": {
    "collapsed": true
   },
   "outputs": [],
   "source": [
    "def updateJobCredential (jobName, config):\n",
    "    jobConfigUrl = jenkins_url + '/job/' + jobName + '/config.xml'\n",
    "    postResult = requests.post(jobConfigUrl, auth=AUTH, data=config, headers=getCrumbHeader())\n",
    "    if postResult.status_code == 200:\n",
    "        print('success update job %s' % (jobName))\n",
    "    else :\n",
    "        print('update failed %d: postResult.text', postResult.status_code)"
   ]
  },
  {
   "cell_type": "code",
   "execution_count": null,
   "metadata": {
    "collapsed": true
   },
   "outputs": [],
   "source": [
    "dashboardUrl = 'https://jenkins_url/api/json?pretty=true'"
   ]
  },
  {
   "cell_type": "code",
   "execution_count": null,
   "metadata": {
    "collapsed": false
   },
   "outputs": [],
   "source": [
    "dashboard = loads(requests.get(dashboardUrl, auth=AUTH).text)"
   ]
  },
  {
   "cell_type": "code",
   "execution_count": null,
   "metadata": {
    "collapsed": false
   },
   "outputs": [],
   "source": [
    "job_names = [job['name'] for job in dashboard['jobs']]"
   ]
  },
  {
   "cell_type": "code",
   "execution_count": null,
   "metadata": {
    "collapsed": true
   },
   "outputs": [],
   "source": [
    "directory = './back_up_20170116/'\n"
   ]
  },
  {
   "cell_type": "code",
   "execution_count": null,
   "metadata": {
    "collapsed": false,
    "scrolled": false
   },
   "outputs": [],
   "source": [
    "for jobName in job_names:\n",
    "    config, cred, giturl = getJobConfig(jobName)\n",
    "    with open(directory + jobName + '.config.xml', 'w') as outfile:\n",
    "        outfile.write(config)\n",
    "\n",
    "    if cred == previous_key:\n",
    "        print(\"need to update:\\t\" + jobName + \"\\t\" + giturl)\n",
    "        updateJobCredential(jobName, config.replace(previous_key, new_key))\n",
    "    elif cred == new_key:\n",
    "        print(\"already updated:\\t\" + jobName + \"\\t\" + giturl)\n",
    "    elif cred == 'node_not_found':\n",
    "        print(\"scm not found:\\t\" + jobName)\n",
    "    else:\n",
    "        print(\"not specific user:\\t\" + jobName + \"\\t\" + giturl)\n",
    "        updateJobCredential(jobName, config.replace(cred, new_key))"
   ]
  },
  {
   "cell_type": "code",
   "execution_count": null,
   "metadata": {
    "collapsed": false
   },
   "outputs": [],
   "source": [
    "len(job_names)"
   ]
  },
  {
   "cell_type": "code",
   "execution_count": null,
   "metadata": {
    "collapsed": false
   },
   "outputs": [],
   "source": [
    "ans = ET.fromstring(a)"
   ]
  },
  {
   "cell_type": "code",
   "execution_count": null,
   "metadata": {
    "collapsed": false
   },
   "outputs": [],
   "source": [
    "ans.find('scm')"
   ]
  },
  {
   "cell_type": "code",
   "execution_count": null,
   "metadata": {
    "collapsed": false
   },
   "outputs": [],
   "source": [
    "jobName = 'demo-cedric-example-git-credentials'\n",
    "k, config = getJobConfig(jobName)"
   ]
  },
  {
   "cell_type": "code",
   "execution_count": null,
   "metadata": {
    "collapsed": true
   },
   "outputs": [],
   "source": []
  },
  {
   "cell_type": "code",
   "execution_count": null,
   "metadata": {
    "collapsed": false
   },
   "outputs": [],
   "source": [
    "if k == previous_key:\n",
    "    updateJobCredential(jobName, config.replace(previous_key, new_key))"
   ]
  },
  {
   "cell_type": "code",
   "execution_count": null,
   "metadata": {
    "collapsed": true
   },
   "outputs": [],
   "source": []
  },
  {
   "cell_type": "code",
   "execution_count": null,
   "metadata": {
    "collapsed": false
   },
   "outputs": [],
   "source": [
    "ET.fromstring(b.text).getchildren()\n"
   ]
  },
  {
   "cell_type": "code",
   "execution_count": null,
   "metadata": {
    "collapsed": false
   },
   "outputs": [],
   "source": []
  },
  {
   "cell_type": "code",
   "execution_count": null,
   "metadata": {
    "collapsed": false
   },
   "outputs": [],
   "source": [
    "tobe = requests.get('https://jenkins-url/job/demo-carwest-example-git-credentials/config.xml', auth=Auth)\n",
    "print(tobe.text)"
   ]
  },
  {
   "cell_type": "code",
   "execution_count": null,
   "metadata": {
    "collapsed": true
   },
   "outputs": [],
   "source": [
    "\n",
    "raw_data = tobe.text.replace(nkey, okey)"
   ]
  },
  {
   "cell_type": "code",
   "execution_count": null,
   "metadata": {
    "collapsed": false
   },
   "outputs": [],
   "source": [
    "raw_data"
   ]
  },
  {
   "cell_type": "code",
   "execution_count": null,
   "metadata": {
    "collapsed": false
   },
   "outputs": [],
   "source": []
  },
  {
   "cell_type": "code",
   "execution_count": null,
   "metadata": {
    "collapsed": false
   },
   "outputs": [],
   "source": [
    "crumbResult.text"
   ]
  },
  {
   "cell_type": "code",
   "execution_count": null,
   "metadata": {
    "collapsed": true
   },
   "outputs": [],
   "source": [
    "crumb = crumbResult.text.split(':')[1]"
   ]
  },
  {
   "cell_type": "code",
   "execution_count": null,
   "metadata": {
    "collapsed": false
   },
   "outputs": [],
   "source": [
    "post = requests.post('https://jenkins_url/job/demo-carwest-example-git-credentials/config.xml',\n",
    "                     auth=Auth,\n",
    "                     data=raw_data,\n",
    "                     headers = {'Jenkins-Crumb': crumb})"
   ]
  },
  {
   "cell_type": "code",
   "execution_count": null,
   "metadata": {
    "collapsed": false
   },
   "outputs": [],
   "source": [
    "post.status_code"
   ]
  },
  {
   "cell_type": "code",
   "execution_count": null,
   "metadata": {
    "collapsed": true
   },
   "outputs": [],
   "source": [
    "crumbResult = requests.get()"
   ]
  }
 ],
 "metadata": {
  "anaconda-cloud": {},
  "kernelspec": {
   "display_name": "Python [Root]",
   "language": "python",
   "name": "Python [Root]"
  },
  "language_info": {
   "codemirror_mode": {
    "name": "ipython",
    "version": 3
   },
   "file_extension": ".py",
   "mimetype": "text/x-python",
   "name": "python",
   "nbconvert_exporter": "python",
   "pygments_lexer": "ipython3",
   "version": "3.5.2"
  }
 },
 "nbformat": 4,
 "nbformat_minor": 0
}
